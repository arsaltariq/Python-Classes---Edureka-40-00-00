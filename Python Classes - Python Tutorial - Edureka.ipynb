{
 "cells": [
  {
   "cell_type": "code",
   "execution_count": 23,
   "metadata": {},
   "outputs": [
    {
     "name": "stdout",
     "output_type": "stream",
     "text": [
      "Python\n",
      "1.1\n",
      "60\n",
      "63\n",
      "90\n",
      "94\n",
      "Neel\n",
      "Hemant\n",
      "Neel.Verma@school.com\n",
      "Hemant.Sharma@school.com\n",
      "Neel Verma\n",
      "Hemant Sharma\n",
      "{'first': 'Neel', 'last': 'Verma', 'marks': 63, 'email': 'Neel.Verma@school.com', 'prog_lang': 'Python'}\n",
      "{'first': 'Hemant', 'last': 'Sharma', 'marks': 94, 'email': 'Hemant.Sharma@school.com'}\n",
      "{'__module__': '__main__', 'perc_rise': 1.05, '__init__': <function Student.__init__ at 0x031310C0>, 'fullname': <function Student.fullname at 0x03131108>, 'apply_raise': <function Student.apply_raise at 0x031318A0>, '__dict__': <attribute '__dict__' of 'Student' objects>, '__weakref__': <attribute '__weakref__' of 'Student' objects>, '__doc__': None}\n"
     ]
    }
   ],
   "source": [
    "#Python Class (Edureka)\n",
    "#Python is an object oriented programming language\n",
    "#Object are instance of class\n",
    "#Attributes = Data\n",
    "#Methods = Functions\n",
    "#Instance Variable = Unique\n",
    "\n",
    "class Student:\n",
    "    \n",
    "    perc_rise = 1.05\n",
    "    \n",
    "    def __init__(self, first, last, marks):\n",
    "        \n",
    "        self.first = first\n",
    "        self.last = last\n",
    "        self.marks = marks \n",
    "        self.email = first + \".\" + last + \"@school.com\"\n",
    "        \n",
    "    def fullname(self):\n",
    "        \n",
    "        return '{} {}'.format(self.first, self.last)\n",
    "\n",
    "    def apply_raise(self):\n",
    "        \n",
    "        self.marks = int(self.marks * 1.05)\n",
    "        \n",
    "class Dumb(Student):\n",
    "    \n",
    "    perc_rise = 1.10\n",
    "    \n",
    "    def __init__(self, first, last, marks, prog_lang):\n",
    "        \n",
    "        super().__init__(first, last, marks)\n",
    "        self.prog_lang = prog_lang\n",
    "    \n",
    "    pass\n",
    "\n",
    "std_1 = Dumb(\"Neel\" , \"Verma\" , 60 , \"Python\")\n",
    "\n",
    "print(std_1.prog_lang)\n",
    "\n",
    "print(std_1.perc_rise)\n",
    "\n",
    "std_2 = Student(\"Hemant\" , \"Sharma\" , 90)\n",
    "\n",
    "print(std_1.marks)\n",
    "\n",
    "std_1.apply_raise()\n",
    "\n",
    "print(std_1.marks)\n",
    "\n",
    "print(std_2.marks)\n",
    "\n",
    "std_2.apply_raise()\n",
    "\n",
    "print(std_2.marks)\n",
    "      \n",
    "print(std_1.first)\n",
    "\n",
    "print(std_2.first)\n",
    "\n",
    "print(std_1.email)\n",
    "\n",
    "print(std_2.email)\n",
    "\n",
    "print(std_1.fullname())\n",
    "\n",
    "print(std_2.fullname())\n",
    "\n",
    "print(std_1.__dict__)\n",
    "\n",
    "print(std_2.__dict__)\n",
    "\n",
    "print(Student.__dict__)\n"
   ]
  },
  {
   "cell_type": "code",
   "execution_count": 19,
   "metadata": {},
   "outputs": [
    {
     "name": "stdout",
     "output_type": "stream",
     "text": [
      "neelverma@school.com\n",
      "hemant@school.com\n",
      "Neel\n",
      "Hemant\n"
     ]
    }
   ],
   "source": [
    "class Student:\n",
    "    \n",
    "    pass\n",
    "\n",
    "\n",
    "std_1 = Student()\n",
    "std_2 = Student()\n",
    "\n",
    "std_1.first = \"Neel\"\n",
    "std_1.last = \"Verma\"\n",
    "std_1.email = \"neelverma@school.com\"\n",
    "std_1.marks = 55\n",
    "\n",
    "std_2.first = \"Hemant\"\n",
    "std_2.last = \"Sharma\"\n",
    "std_2.email = \"hemant@school.com\"\n",
    "std_2.marks = 90\n",
    "\n",
    "print(std_1.email)\n",
    "print(std_2.email)\n",
    "print(std_1.first)\n",
    "print(std_2.first)"
   ]
  },
  {
   "cell_type": "code",
   "execution_count": 24,
   "metadata": {},
   "outputs": [
    {
     "name": "stdout",
     "output_type": "stream",
     "text": [
      "11000.0\n"
     ]
    }
   ],
   "source": [
    "from abc import ABC, abstractmethod\n",
    "\n",
    "class Employee(ABC):\n",
    "    \n",
    "    @abstractmethod\n",
    "    \n",
    "    def calculate_salary(self, sal):\n",
    "        \n",
    "        pass\n",
    "    \n",
    "class Developer(Employee):\n",
    "    \n",
    "    def calculate_salary(self, sal):\n",
    "        \n",
    "        final_salary = sal * 1.10 #10% increase in salary\n",
    "        \n",
    "        return final_salary\n",
    "    \n",
    "emp_1 = Developer()\n",
    "\n",
    "print(emp_1.calculate_salary(10000))\n"
   ]
  },
  {
   "cell_type": "code",
   "execution_count": null,
   "metadata": {},
   "outputs": [],
   "source": []
  }
 ],
 "metadata": {
  "kernelspec": {
   "display_name": "Python 3",
   "language": "python",
   "name": "python3"
  },
  "language_info": {
   "codemirror_mode": {
    "name": "ipython",
    "version": 3
   },
   "file_extension": ".py",
   "mimetype": "text/x-python",
   "name": "python",
   "nbconvert_exporter": "python",
   "pygments_lexer": "ipython3",
   "version": "3.7.0"
  }
 },
 "nbformat": 4,
 "nbformat_minor": 2
}
